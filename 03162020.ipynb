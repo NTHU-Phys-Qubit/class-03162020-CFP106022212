{
 "cells": [
  {
   "cell_type": "code",
   "execution_count": 1,
   "metadata": {
    "collapsed": true
   },
   "outputs": [],
   "source": [
    "import numpy as np\n",
    "import matplotlib.pyplot as plt"
   ]
  },
  {
   "cell_type": "code",
   "execution_count": 59,
   "metadata": {},
   "outputs": [
    {
     "data": {
      "text/plain": [
       "(array([ 1.,  1.,  0.,  3.,  0.,  1.,  5.,  0.,  7.,  0., 14., 17.,  0.,\n",
       "        33.,  0., 38., 35.,  0., 65.,  0., 84., 67.,  0., 66.,  0., 85.,\n",
       "        69.,  0., 85.,  0., 69., 73.,  0., 61.,  0., 35., 29.,  0., 22.,\n",
       "         0., 14., 11.,  0.,  2.,  0.,  0.,  4.,  0.,  2.,  2.]),\n",
       " array([-15.5, -14.9, -14.3, -13.7, -13.1, -12.5, -11.9, -11.3, -10.7,\n",
       "        -10.1,  -9.5,  -8.9,  -8.3,  -7.7,  -7.1,  -6.5,  -5.9,  -5.3,\n",
       "         -4.7,  -4.1,  -3.5,  -2.9,  -2.3,  -1.7,  -1.1,  -0.5,   0.1,\n",
       "          0.7,   1.3,   1.9,   2.5,   3.1,   3.7,   4.3,   4.9,   5.5,\n",
       "          6.1,   6.7,   7.3,   7.9,   8.5,   9.1,   9.7,  10.3,  10.9,\n",
       "         11.5,  12.1,  12.7,  13.3,  13.9,  14.5]),\n",
       " <a list of 50 Patch objects>)"
      ]
     },
     "execution_count": 59,
     "metadata": {},
     "output_type": "execute_result"
    },
    {
     "data": {
      "image/png": "[encoded data removed]",
      "text/plain": [
       "<Figure size 432x288 with 1 Axes>"
      ]
     },
     "metadata": {
      "needs_background": "light"
     },
     "output_type": "display_data"
    }
   ],
   "source": [
    "people = 1000\n",
    "\n",
    "a = np.zeros(people)\n",
    "for i in range(1,100):\n",
    "    a += np.random.randint(0,2,size = people)-1/2\n",
    "    \n",
    "plt.hist(a,bins=50)"
   ]
  },
  {
   "cell_type": "code",
   "execution_count": null,
   "metadata": {},
   "outputs": [],
   "source": []
  }
 ],
 "metadata": {
  "kernelspec": {
   "display_name": "Python 3",
   "language": "python",
   "name": "python3"
  },
  "language_info": {
   "codemirror_mode": {
    "name": "ipython",
    "version": 3
   },
   "file_extension": ".py",
   "mimetype": "text/x-python",
   "name": "python",
   "nbconvert_exporter": "python",
   "pygments_lexer": "ipython3",
   "version": "3.6.8"
  }
 },
 "nbformat": 4,
 "nbformat_minor": 2
}
